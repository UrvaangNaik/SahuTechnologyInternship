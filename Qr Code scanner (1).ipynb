{
 "cells": [
  {
   "cell_type": "code",
   "execution_count": null,
   "id": "160cc8b7",
   "metadata": {},
   "outputs": [],
   "source": [
    "pip install opencv\n",
    "pip install pyzbar"
   ]
  },
  {
   "cell_type": "code",
   "execution_count": null,
   "id": "a97d693a",
   "metadata": {
    "scrolled": false
   },
   "outputs": [
    {
     "name": "stdout",
     "output_type": "stream",
     "text": [
      "Press Escape Key (Esc) to exit!\n",
      "\n",
      " b'MobileApp' \n",
      "\n"
     ]
    }
   ],
   "source": [
    "import cv2\n",
    "from pyzbar.pyzbar import decode\n",
    "from warnings import filterwarnings\n",
    "filterwarnings('ignore')\n",
    "\n",
    "# Capture the video from default camera\n",
    "video = cv2.VideoCapture(0)\n",
    "\n",
    "print(\"Press Escape Key (Esc) to exit!\")\n",
    "recieved_data = None\n",
    "while True:\n",
    "    # reading frame from the camera\n",
    "    _, frame = video.read()\n",
    "    # Decoding the QR Code \n",
    "    decoded_data = decode(frame)\n",
    "    try:\n",
    "        data = decoded_data[0][0]\n",
    "        if data != recieved_data:\n",
    "            recieved_data = data\n",
    "            print(\"\\n\", data, \"\\n\")\n",
    "    except:\n",
    "        pass\n",
    "    \n",
    "    # Showing video.\n",
    "    cv2.imshow(\"QR CODE Scanner\", frame)\n",
    "\n",
    "    # To exit press Esc Key.\n",
    "    key = cv2.waitKey(1)\n",
    "    if key == 27:\n",
    "        break"
   ]
  },
  {
   "cell_type": "code",
   "execution_count": null,
   "id": "1aaf021e",
   "metadata": {},
   "outputs": [],
   "source": []
  },
  {
   "cell_type": "code",
   "execution_count": null,
   "id": "ba61e197",
   "metadata": {},
   "outputs": [],
   "source": []
  },
  {
   "cell_type": "code",
   "execution_count": null,
   "id": "bc6d846e",
   "metadata": {},
   "outputs": [],
   "source": []
  }
 ],
 "metadata": {
  "kernelspec": {
   "display_name": "Python 3 (ipykernel)",
   "language": "python",
   "name": "python3"
  },
  "language_info": {
   "codemirror_mode": {
    "name": "ipython",
    "version": 3
   },
   "file_extension": ".py",
   "mimetype": "text/x-python",
   "name": "python",
   "nbconvert_exporter": "python",
   "pygments_lexer": "ipython3",
   "version": "3.9.7"
  }
 },
 "nbformat": 4,
 "nbformat_minor": 5
}
